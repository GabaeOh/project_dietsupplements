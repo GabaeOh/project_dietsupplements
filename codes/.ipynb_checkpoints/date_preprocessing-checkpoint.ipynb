{
 "cells": [
  {
   "cell_type": "code",
   "execution_count": 2,
   "id": "b99424ac-e42b-40d6-93d9-e263b97cb57e",
   "metadata": {
    "tags": []
   },
   "outputs": [],
   "source": [
    "import pandas as pd"
   ]
  },
  {
   "cell_type": "code",
   "execution_count": 2,
   "id": "a6d40455-2386-4793-9368-d8ef503fab2f",
   "metadata": {
    "tags": []
   },
   "outputs": [],
   "source": [
    "df = pd.read_csv('../datasets/oliveyoung_reviewsdata.csv')"
   ]
  },
  {
   "cell_type": "code",
   "execution_count": 4,
   "id": "af9787ec-3ea8-4ab7-914f-ccf0c2f32f86",
   "metadata": {
    "tags": []
   },
   "outputs": [
    {
     "data": {
      "text/plain": [
       "[올영PICK]콜레올로지 600mg*30정+컷팅젤리2포 (15일분) 기획/단품 중 택1    672980\n",
       "[주현영, 이나연 찐템]딥트 3일 피치(맛)번 30정 (30일분)                622288\n",
       "[올영PICK] 바이탈뷰티 메타그린 슬림업 (14일, 30+7일분 중 택1)          614460\n",
       "경남 칼로 나이트 15포 (15일분)                                580956\n",
       "[주현영, 이나연 찐템]딥트 3일 스트롱업 8포 (4일분)                    510230\n",
       "[서현pick]콜레올로지 버닝올로지 디데이 3.8g*5포 (5일분)               491650\n",
       "grn+ 벨리곰X슬림밸런스 분홍이/초록이 35일분 택 1                     339720\n",
       "경남 칼로 스탑 PLUS 15포 + 칼로 컨트롤 PLUS 15포 기획(30일분)        321750\n",
       "[서현Pick]콜레올로지 600mgX60정(1개월분)                       317420\n",
       "[서현PICK]콜레올로지 컷팅 젤리 10포+2포 증정(12일분)                 267048\n",
       "바이탈뷰티 메타그린 슬림업 30입 단품, 기획 중 택1                      200722\n",
       "[한혜진PICK]바이탈뷰티 메타그린 부스터샷 7일                         155024\n",
       "[9월 올영픽] 센시안 마시는 센시안 14포 (14일분)                     134815\n",
       "센트 센트디 패스트샷 10일 다이어트 리뉴얼 10+2병 2종 중 택 1             124690\n",
       "grn+ 초록이/분홍이 쓰리데이즈 시즌2 3개입(3일분) 2종 중 택 1             71098\n",
       "[주현영, 이나연 찐템]딥트 3일 올케어 3일 프로그램 (24입)                 30654\n",
       "Name: product_name, dtype: int64"
      ]
     },
     "execution_count": 4,
     "metadata": {},
     "output_type": "execute_result"
    }
   ],
   "source": [
    "df['product_name'].value_counts()"
   ]
  },
  {
   "cell_type": "code",
   "execution_count": 5,
   "id": "1ada3c73-32d5-4f81-9e74-4f9422178bd5",
   "metadata": {
    "tags": []
   },
   "outputs": [],
   "source": [
    "df2 = pd.read_csv('../datasets/oliveyoung_reviewsdata.csv')"
   ]
  },
  {
   "cell_type": "code",
   "execution_count": 6,
   "id": "6c170669-dd02-4bc3-8b0a-aea1f4e61bf2",
   "metadata": {
    "tags": []
   },
   "outputs": [
    {
     "data": {
      "text/plain": [
       "[올영PICK]콜레올로지 600mg*30정+컷팅젤리2포 (15일분) 기획/단품 중 택1    672980\n",
       "[주현영, 이나연 찐템]딥트 3일 피치(맛)번 30정 (30일분)                622288\n",
       "[올영PICK] 바이탈뷰티 메타그린 슬림업 (14일, 30+7일분 중 택1)          614460\n",
       "경남 칼로 나이트 15포 (15일분)                                580956\n",
       "[주현영, 이나연 찐템]딥트 3일 스트롱업 8포 (4일분)                    510230\n",
       "[서현pick]콜레올로지 버닝올로지 디데이 3.8g*5포 (5일분)               491650\n",
       "grn+ 벨리곰X슬림밸런스 분홍이/초록이 35일분 택 1                     339720\n",
       "경남 칼로 스탑 PLUS 15포 + 칼로 컨트롤 PLUS 15포 기획(30일분)        321750\n",
       "[서현Pick]콜레올로지 600mgX60정(1개월분)                       317420\n",
       "[서현PICK]콜레올로지 컷팅 젤리 10포+2포 증정(12일분)                 267048\n",
       "바이탈뷰티 메타그린 슬림업 30입 단품, 기획 중 택1                      200722\n",
       "[한혜진PICK]바이탈뷰티 메타그린 부스터샷 7일                         155024\n",
       "[9월 올영픽] 센시안 마시는 센시안 14포 (14일분)                     134815\n",
       "센트 센트디 패스트샷 10일 다이어트 리뉴얼 10+2병 2종 중 택 1             124690\n",
       "grn+ 초록이/분홍이 쓰리데이즈 시즌2 3개입(3일분) 2종 중 택 1             71098\n",
       "[주현영, 이나연 찐템]딥트 3일 올케어 3일 프로그램 (24입)                 30654\n",
       "Name: product_name, dtype: int64"
      ]
     },
     "execution_count": 6,
     "metadata": {},
     "output_type": "execute_result"
    }
   ],
   "source": [
    "df2['product_name'].value_counts()"
   ]
  },
  {
   "cell_type": "code",
   "execution_count": 10,
   "id": "623f9b8b-5f69-45e8-b9f4-d6b48b858a0c",
   "metadata": {
    "tags": []
   },
   "outputs": [
    {
     "data": {
      "text/plain": [
       "Index(['_id', 'product_name', 'review_name', 'review_content', 'review_date',\n",
       "       'review_rating'],\n",
       "      dtype='object')"
      ]
     },
     "execution_count": 10,
     "metadata": {},
     "output_type": "execute_result"
    }
   ],
   "source": [
    "df.columns"
   ]
  },
  {
   "cell_type": "code",
   "execution_count": 11,
   "id": "01b38283-8c6e-41a9-a88c-1a48f58ab4c1",
   "metadata": {
    "tags": []
   },
   "outputs": [],
   "source": [
    "df = df.drop_duplicates(subset=['product_name', 'review_name', 'review_content', 'review_date',\n",
    "       'review_rating'])"
   ]
  },
  {
   "cell_type": "code",
   "execution_count": 12,
   "id": "26d716b1-1a4a-424e-ab44-d67f9a1bfc7f",
   "metadata": {
    "tags": []
   },
   "outputs": [
    {
     "name": "stdout",
     "output_type": "stream",
     "text": [
      "<class 'pandas.core.frame.DataFrame'>\n",
      "Int64Index: 1440 entries, 0 to 4979029\n",
      "Data columns (total 6 columns):\n",
      " #   Column          Non-Null Count  Dtype \n",
      "---  ------          --------------  ----- \n",
      " 0   _id             1440 non-null   object\n",
      " 1   product_name    1440 non-null   object\n",
      " 2   review_name     1429 non-null   object\n",
      " 3   review_content  1397 non-null   object\n",
      " 4   review_date     1369 non-null   object\n",
      " 5   review_rating   1345 non-null   object\n",
      "dtypes: object(6)\n",
      "memory usage: 78.8+ KB\n"
     ]
    }
   ],
   "source": [
    "df.info()"
   ]
  },
  {
   "cell_type": "code",
   "execution_count": 13,
   "id": "5278a339-fc48-4f2e-a385-af18859c4aa1",
   "metadata": {
    "tags": []
   },
   "outputs": [],
   "source": [
    "df3 = pd.read_csv('../datasets/oliveyoung_data_third.csv')"
   ]
  },
  {
   "cell_type": "code",
   "execution_count": 14,
   "id": "e9a3e02d-dad7-45ef-b3dc-dc2ea1168e45",
   "metadata": {
    "tags": []
   },
   "outputs": [],
   "source": [
    "df3 = df3.drop_duplicates(subset=['product_name', 'review_name', 'review_content', 'review_date',\n",
    "       'review_rating'])"
   ]
  },
  {
   "cell_type": "code",
   "execution_count": 15,
   "id": "0097697c-0997-437b-ba7b-20222bf22b32",
   "metadata": {
    "tags": []
   },
   "outputs": [
    {
     "name": "stdout",
     "output_type": "stream",
     "text": [
      "<class 'pandas.core.frame.DataFrame'>\n",
      "Int64Index: 1925 entries, 0 to 12756421\n",
      "Data columns (total 6 columns):\n",
      " #   Column          Non-Null Count  Dtype \n",
      "---  ------          --------------  ----- \n",
      " 0   _id             1925 non-null   object\n",
      " 1   product_name    1925 non-null   object\n",
      " 2   review_name     1917 non-null   object\n",
      " 3   review_content  1774 non-null   object\n",
      " 4   review_date     1868 non-null   object\n",
      " 5   review_rating   1848 non-null   object\n",
      "dtypes: object(6)\n",
      "memory usage: 105.3+ KB\n"
     ]
    }
   ],
   "source": [
    "df3.info()"
   ]
  },
  {
   "cell_type": "code",
   "execution_count": 20,
   "id": "d61c9b08-4ed0-4a0a-91c1-ddca61ec7010",
   "metadata": {
    "tags": []
   },
   "outputs": [],
   "source": [
    "result = pd.concat([df, df3], axis=0)"
   ]
  },
  {
   "cell_type": "code",
   "execution_count": 29,
   "id": "cdf86663-5726-4c82-aa08-fed3e1e01795",
   "metadata": {
    "tags": []
   },
   "outputs": [],
   "source": [
    "result = pd.concat([df, df2, df3], axis=0)"
   ]
  },
  {
   "cell_type": "code",
   "execution_count": 31,
   "id": "b4e07a22-465f-46c1-88f6-27e854312a49",
   "metadata": {
    "tags": []
   },
   "outputs": [],
   "source": [
    "result = result.drop_duplicates(subset=['product_name', 'review_name', 'review_content', 'review_date',\n",
    "       'review_rating'])"
   ]
  },
  {
   "cell_type": "code",
   "execution_count": null,
   "id": "dba09188-1f24-473d-b8f8-d8202be2daca",
   "metadata": {},
   "outputs": [],
   "source": []
  },
  {
   "cell_type": "code",
   "execution_count": 32,
   "id": "13cf387b-191d-4830-b17a-8de069596262",
   "metadata": {
    "tags": []
   },
   "outputs": [
    {
     "name": "stdout",
     "output_type": "stream",
     "text": [
      "<class 'pandas.core.frame.DataFrame'>\n",
      "Int64Index: 3216 entries, 0 to 12756421\n",
      "Data columns (total 6 columns):\n",
      " #   Column          Non-Null Count  Dtype \n",
      "---  ------          --------------  ----- \n",
      " 0   _id             3216 non-null   object\n",
      " 1   product_name    3216 non-null   object\n",
      " 2   review_name     3198 non-null   object\n",
      " 3   review_content  3024 non-null   object\n",
      " 4   review_date     3093 non-null   object\n",
      " 5   review_rating   3054 non-null   object\n",
      "dtypes: object(6)\n",
      "memory usage: 175.9+ KB\n"
     ]
    }
   ],
   "source": [
    "result.info()"
   ]
  },
  {
   "cell_type": "code",
   "execution_count": 33,
   "id": "3307bf13-06bd-47d3-aa55-377dd770f479",
   "metadata": {
    "tags": []
   },
   "outputs": [],
   "source": [
    "result.to_csv('../datasets/oliveyoung_data.csv')"
   ]
  },
  {
   "cell_type": "code",
   "execution_count": 34,
   "id": "9c98d88e-e35f-4959-88fd-87b44a828ec3",
   "metadata": {
    "tags": []
   },
   "outputs": [
    {
     "data": {
      "text/html": [
       "<div>\n",
       "<style scoped>\n",
       "    .dataframe tbody tr th:only-of-type {\n",
       "        vertical-align: middle;\n",
       "    }\n",
       "\n",
       "    .dataframe tbody tr th {\n",
       "        vertical-align: top;\n",
       "    }\n",
       "\n",
       "    .dataframe thead th {\n",
       "        text-align: right;\n",
       "    }\n",
       "</style>\n",
       "<table border=\"1\" class=\"dataframe\">\n",
       "  <thead>\n",
       "    <tr style=\"text-align: right;\">\n",
       "      <th></th>\n",
       "      <th>Unnamed: 0</th>\n",
       "      <th>_id</th>\n",
       "      <th>product_name</th>\n",
       "      <th>review_name</th>\n",
       "      <th>review_content</th>\n",
       "      <th>review_date</th>\n",
       "      <th>review_rating</th>\n",
       "    </tr>\n",
       "  </thead>\n",
       "  <tbody>\n",
       "    <tr>\n",
       "      <th>0</th>\n",
       "      <td>0</td>\n",
       "      <td>65090e01cca26a79a2f5d04c</td>\n",
       "      <td>[주현영, 이나연 찐템]딥트 3일 피치(맛)번 30정 (30일분)</td>\n",
       "      <td>보리오빠</td>\n",
       "      <td>없으면 안될 최고의 diet템! 피치번을 추천합니당 ㅎㅎ 사진엔 없지만 4통째 먹고...</td>\n",
       "      <td>2023.08.27</td>\n",
       "      <td>5점만점에 5점</td>\n",
       "    </tr>\n",
       "    <tr>\n",
       "      <th>1</th>\n",
       "      <td>1</td>\n",
       "      <td>65090e01cca26a79a2f5d04d</td>\n",
       "      <td>[주현영, 이나연 찐템]딥트 3일 피치(맛)번 30정 (30일분)</td>\n",
       "      <td>바보바니</td>\n",
       "      <td>알약 통통이하트 넘예뻐요. 자기전 먹고 효과있으면 얼마나 좋을까요 ㅜㅜ 나이들수록 ...</td>\n",
       "      <td>2023.09.14</td>\n",
       "      <td>5점만점에 5점</td>\n",
       "    </tr>\n",
       "    <tr>\n",
       "      <th>2</th>\n",
       "      <td>2</td>\n",
       "      <td>65090e01cca26a79a2f5d04e</td>\n",
       "      <td>[주현영, 이나연 찐템]딥트 3일 피치(맛)번 30정 (30일분)</td>\n",
       "      <td>올영요정임니당</td>\n",
       "      <td>드라마틱하게 뭔가 달라진 건 없지만 자기 전에 죄책감을 덜어주는 의미로 하나씩 먹고...</td>\n",
       "      <td>2023.09.14</td>\n",
       "      <td>5점만점에 5점</td>\n",
       "    </tr>\n",
       "  </tbody>\n",
       "</table>\n",
       "</div>"
      ],
      "text/plain": [
       "   Unnamed: 0                       _id                          product_name  \\\n",
       "0           0  65090e01cca26a79a2f5d04c  [주현영, 이나연 찐템]딥트 3일 피치(맛)번 30정 (30일분)   \n",
       "1           1  65090e01cca26a79a2f5d04d  [주현영, 이나연 찐템]딥트 3일 피치(맛)번 30정 (30일분)   \n",
       "2           2  65090e01cca26a79a2f5d04e  [주현영, 이나연 찐템]딥트 3일 피치(맛)번 30정 (30일분)   \n",
       "\n",
       "  review_name                                     review_content review_date  \\\n",
       "0        보리오빠  없으면 안될 최고의 diet템! 피치번을 추천합니당 ㅎㅎ 사진엔 없지만 4통째 먹고...  2023.08.27   \n",
       "1        바보바니  알약 통통이하트 넘예뻐요. 자기전 먹고 효과있으면 얼마나 좋을까요 ㅜㅜ 나이들수록 ...  2023.09.14   \n",
       "2     올영요정임니당  드라마틱하게 뭔가 달라진 건 없지만 자기 전에 죄책감을 덜어주는 의미로 하나씩 먹고...  2023.09.14   \n",
       "\n",
       "  review_rating  \n",
       "0      5점만점에 5점  \n",
       "1      5점만점에 5점  \n",
       "2      5점만점에 5점  "
      ]
     },
     "execution_count": 34,
     "metadata": {},
     "output_type": "execute_result"
    }
   ],
   "source": [
    "df_0= pd.read_csv('../datasets/oliveyoung_data.csv')\n",
    "df_0[:3]"
   ]
  },
  {
   "cell_type": "code",
   "execution_count": 35,
   "id": "06d311ae-822b-42ff-9f0d-bc6424cb1081",
   "metadata": {
    "tags": []
   },
   "outputs": [
    {
     "data": {
      "text/plain": [
       "Unnamed: 0          0\n",
       "_id                 0\n",
       "product_name        0\n",
       "review_name        18\n",
       "review_content    192\n",
       "review_date       123\n",
       "review_rating     162\n",
       "dtype: int64"
      ]
     },
     "execution_count": 35,
     "metadata": {},
     "output_type": "execute_result"
    }
   ],
   "source": [
    "df_0.isnull().sum()"
   ]
  },
  {
   "cell_type": "code",
   "execution_count": 36,
   "id": "e14deae2-80e4-4133-b1cc-565db1958491",
   "metadata": {
    "tags": []
   },
   "outputs": [
    {
     "name": "stdout",
     "output_type": "stream",
     "text": [
      "<class 'pandas.core.frame.DataFrame'>\n",
      "RangeIndex: 3216 entries, 0 to 3215\n",
      "Data columns (total 7 columns):\n",
      " #   Column          Non-Null Count  Dtype \n",
      "---  ------          --------------  ----- \n",
      " 0   Unnamed: 0      3216 non-null   int64 \n",
      " 1   _id             3216 non-null   object\n",
      " 2   product_name    3216 non-null   object\n",
      " 3   review_name     3198 non-null   object\n",
      " 4   review_content  3024 non-null   object\n",
      " 5   review_date     3093 non-null   object\n",
      " 6   review_rating   3054 non-null   object\n",
      "dtypes: int64(1), object(6)\n",
      "memory usage: 176.0+ KB\n"
     ]
    }
   ],
   "source": [
    "df_0.info()"
   ]
  },
  {
   "cell_type": "code",
   "execution_count": 2,
   "id": "f8c5ee4e-5509-4d98-afa1-d905c0b7967f",
   "metadata": {},
   "outputs": [],
   "source": [
    "data= pd.read_csv('../datasets/oliveyoung_data.csv')"
   ]
  },
  {
   "cell_type": "code",
   "execution_count": 3,
   "id": "c9d4cf28-6735-4dfb-9049-1e4fc9497fc9",
   "metadata": {
    "tags": []
   },
   "outputs": [
    {
     "data": {
      "text/plain": [
       "Index(['Unnamed: 0', '_id', 'product_name', 'review_name', 'review_content',\n",
       "       'review_date', 'review_rating'],\n",
       "      dtype='object')"
      ]
     },
     "execution_count": 3,
     "metadata": {},
     "output_type": "execute_result"
    }
   ],
   "source": [
    "data.columns"
   ]
  },
  {
   "cell_type": "code",
   "execution_count": 4,
   "id": "5b51629e-e6e8-434b-af90-8de398ff20a9",
   "metadata": {
    "tags": []
   },
   "outputs": [
    {
     "data": {
      "text/plain": [
       "0       2023.08.27\n",
       "1       2023.09.14\n",
       "2       2023.09.14\n",
       "3       2023.09.04\n",
       "4       2023.09.04\n",
       "           ...    \n",
       "3211    2023.06.19\n",
       "3212    2023.03.07\n",
       "3213    2023.03.04\n",
       "3214    2023.03.04\n",
       "3215    2023.01.31\n",
       "Name: review_date, Length: 3216, dtype: object"
      ]
     },
     "execution_count": 4,
     "metadata": {},
     "output_type": "execute_result"
    }
   ],
   "source": [
    "data['review_date']"
   ]
  },
  {
   "cell_type": "code",
   "execution_count": 6,
   "id": "6fc8f7ee-d6ab-4f08-9078-8c0c6ed43cf9",
   "metadata": {},
   "outputs": [
    {
     "data": {
      "text/html": [
       "<div>\n",
       "<style scoped>\n",
       "    .dataframe tbody tr th:only-of-type {\n",
       "        vertical-align: middle;\n",
       "    }\n",
       "\n",
       "    .dataframe tbody tr th {\n",
       "        vertical-align: top;\n",
       "    }\n",
       "\n",
       "    .dataframe thead th {\n",
       "        text-align: right;\n",
       "    }\n",
       "</style>\n",
       "<table border=\"1\" class=\"dataframe\">\n",
       "  <thead>\n",
       "    <tr style=\"text-align: right;\">\n",
       "      <th></th>\n",
       "      <th>_id</th>\n",
       "      <th>product_name</th>\n",
       "      <th>review_name</th>\n",
       "      <th>review_content</th>\n",
       "      <th>review_date</th>\n",
       "      <th>review_rating</th>\n",
       "    </tr>\n",
       "  </thead>\n",
       "  <tbody>\n",
       "    <tr>\n",
       "      <th>0</th>\n",
       "      <td>650bb123ed1d45cc75485e75</td>\n",
       "      <td>라이프허브 콤부차 레몬 1+1세트(5g x 60포) 콤부차 맛 7종(레몬/피치/베리...</td>\n",
       "      <td>art*********</td>\n",
       "      <td>잘 받았어요.잘 챙겨 먹고 관절이 좋아졌으면 좋겠네요.</td>\n",
       "      <td>2023.08.15</td>\n",
       "      <td>4.0</td>\n",
       "    </tr>\n",
       "    <tr>\n",
       "      <th>1</th>\n",
       "      <td>650bb123ed1d45cc75485e76</td>\n",
       "      <td>라이프허브 콤부차 레몬 1+1세트(5g x 60포) 콤부차 맛 7종(레몬/피치/베리...</td>\n",
       "      <td>ali******</td>\n",
       "      <td>콤부차 우연히 마셔보고 음료수 대용으로 마시기 좋고, 유산균있고 하루 1~2잔씩 마...</td>\n",
       "      <td>2023.06.23</td>\n",
       "      <td>5.0</td>\n",
       "    </tr>\n",
       "  </tbody>\n",
       "</table>\n",
       "</div>"
      ],
      "text/plain": [
       "                        _id  \\\n",
       "0  650bb123ed1d45cc75485e75   \n",
       "1  650bb123ed1d45cc75485e76   \n",
       "\n",
       "                                        product_name   review_name  \\\n",
       "0  라이프허브 콤부차 레몬 1+1세트(5g x 60포) 콤부차 맛 7종(레몬/피치/베리...  art*********   \n",
       "1  라이프허브 콤부차 레몬 1+1세트(5g x 60포) 콤부차 맛 7종(레몬/피치/베리...     ali******   \n",
       "\n",
       "                                      review_content review_date  \\\n",
       "0                     잘 받았어요.잘 챙겨 먹고 관절이 좋아졌으면 좋겠네요.  2023.08.15   \n",
       "1  콤부차 우연히 마셔보고 음료수 대용으로 마시기 좋고, 유산균있고 하루 1~2잔씩 마...  2023.06.23   \n",
       "\n",
       "   review_rating  \n",
       "0            4.0  \n",
       "1            5.0  "
      ]
     },
     "execution_count": 6,
     "metadata": {},
     "output_type": "execute_result"
    }
   ],
   "source": [
    "df_4= pd.read_csv('../datasets/wemake_data_test.csv')\n",
    "df_4[:2]"
   ]
  },
  {
   "cell_type": "code",
   "execution_count": 7,
   "id": "1d982076-1da2-4d90-bbe3-67aac7daf0de",
   "metadata": {
    "tags": []
   },
   "outputs": [],
   "source": [
    "df_4 = df_4.drop_duplicates (subset=['product_name', 'review_name', 'review_content', 'review_date',\n",
    "       'review_rating'])"
   ]
  },
  {
   "cell_type": "code",
   "execution_count": 8,
   "id": "a9af0cf3-cfc0-4a90-b098-07c56033ac8a",
   "metadata": {
    "tags": []
   },
   "outputs": [
    {
     "name": "stdout",
     "output_type": "stream",
     "text": [
      "<class 'pandas.core.frame.DataFrame'>\n",
      "Int64Index: 71 entries, 0 to 2640\n",
      "Data columns (total 6 columns):\n",
      " #   Column          Non-Null Count  Dtype  \n",
      "---  ------          --------------  -----  \n",
      " 0   _id             71 non-null     object \n",
      " 1   product_name    71 non-null     object \n",
      " 2   review_name     67 non-null     object \n",
      " 3   review_content  65 non-null     object \n",
      " 4   review_date     63 non-null     object \n",
      " 5   review_rating   59 non-null     float64\n",
      "dtypes: float64(1), object(5)\n",
      "memory usage: 3.9+ KB\n"
     ]
    }
   ],
   "source": [
    "df_4.info()"
   ]
  },
  {
   "cell_type": "code",
   "execution_count": null,
   "id": "22b9d3a3-cadd-443b-9315-7d41bbae2324",
   "metadata": {},
   "outputs": [],
   "source": []
  }
 ],
 "metadata": {
  "kernelspec": {
   "display_name": "Python 3 (ipykernel)",
   "language": "python",
   "name": "python3"
  },
  "language_info": {
   "codemirror_mode": {
    "name": "ipython",
    "version": 3
   },
   "file_extension": ".py",
   "mimetype": "text/x-python",
   "name": "python",
   "nbconvert_exporter": "python",
   "pygments_lexer": "ipython3",
   "version": "3.11.3"
  }
 },
 "nbformat": 4,
 "nbformat_minor": 5
}
